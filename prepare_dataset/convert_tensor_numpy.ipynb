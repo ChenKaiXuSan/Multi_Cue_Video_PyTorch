{
 "cells": [
  {
   "cell_type": "code",
   "execution_count": 2,
   "metadata": {},
   "outputs": [],
   "source": [
    "import pickle\n",
    "import copy\n",
    "\n",
    "with open('/workspace/dataset/seg_skeleton_pkl/whole_annotations.pkl', 'rb') as f:\n",
    "\tdata = pickle.load(f)\n",
    "\n",
    "data_copy = copy.deepcopy(data)"
   ]
  },
  {
   "cell_type": "code",
   "execution_count": null,
   "metadata": {},
   "outputs": [],
   "source": [
    "with open('/workspace/data/seg_skeleton_pkl/whole_annotations_numpy.pkl', 'wb') as f:\n",
    "\tpickle.dump(data_copy, f)"
   ]
  }
 ],
 "metadata": {
  "kernelspec": {
   "display_name": "base",
   "language": "python",
   "name": "python3"
  },
  "language_info": {
   "codemirror_mode": {
    "name": "ipython",
    "version": 3
   },
   "file_extension": ".py",
   "mimetype": "text/x-python",
   "name": "python",
   "nbconvert_exporter": "python",
   "pygments_lexer": "ipython3",
   "version": "3.10.13"
  }
 },
 "nbformat": 4,
 "nbformat_minor": 2
}
